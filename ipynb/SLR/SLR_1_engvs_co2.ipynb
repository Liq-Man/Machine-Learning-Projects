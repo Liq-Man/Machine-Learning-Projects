{
  "nbformat": 4,
  "nbformat_minor": 0,
  "metadata": {
    "colab": {
      "name": "SLR 1 engvs co2.ipynb",
      "provenance": [],
      "collapsed_sections": []
    },
    "kernelspec": {
      "name": "python3",
      "display_name": "Python 3"
    }
  },
  "cells": [
    {
      "cell_type": "code",
      "metadata": {
        "id": "JbgaRE8A4_k6",
        "colab_type": "code",
        "colab": {}
      },
      "source": [
        "import pandas as pd\n",
        "import matplotlib.pyplot as plt\n",
        "import numpy as np\n"
      ],
      "execution_count": 2,
      "outputs": []
    },
    {
      "cell_type": "code",
      "metadata": {
        "id": "AMW2B3lb591x",
        "colab_type": "code",
        "colab": {
          "base_uri": "https://localhost:8080/",
          "height": 318
        },
        "outputId": "73ea8e47-77a0-40bf-ca4c-ca1fffb71045"
      },
      "source": [
        "df = pd.read_csv('/content/drive/My Drive/Oyesters-ML/HW.csv')\n",
        "df"
      ],
      "execution_count": 3,
      "outputs": [
        {
          "output_type": "execute_result",
          "data": {
            "text/html": [
              "<div>\n",
              "<style scoped>\n",
              "    .dataframe tbody tr th:only-of-type {\n",
              "        vertical-align: middle;\n",
              "    }\n",
              "\n",
              "    .dataframe tbody tr th {\n",
              "        vertical-align: top;\n",
              "    }\n",
              "\n",
              "    .dataframe thead th {\n",
              "        text-align: right;\n",
              "    }\n",
              "</style>\n",
              "<table border=\"1\" class=\"dataframe\">\n",
              "  <thead>\n",
              "    <tr style=\"text-align: right;\">\n",
              "      <th></th>\n",
              "      <th>ENGINESIZE</th>\n",
              "      <th>CO2EMISSIONS</th>\n",
              "    </tr>\n",
              "  </thead>\n",
              "  <tbody>\n",
              "    <tr>\n",
              "      <th>0</th>\n",
              "      <td>2.0</td>\n",
              "      <td>196</td>\n",
              "    </tr>\n",
              "    <tr>\n",
              "      <th>1</th>\n",
              "      <td>2.4</td>\n",
              "      <td>221</td>\n",
              "    </tr>\n",
              "    <tr>\n",
              "      <th>2</th>\n",
              "      <td>1.5</td>\n",
              "      <td>136</td>\n",
              "    </tr>\n",
              "    <tr>\n",
              "      <th>3</th>\n",
              "      <td>3.5</td>\n",
              "      <td>255</td>\n",
              "    </tr>\n",
              "    <tr>\n",
              "      <th>4</th>\n",
              "      <td>3.5</td>\n",
              "      <td>244</td>\n",
              "    </tr>\n",
              "    <tr>\n",
              "      <th>5</th>\n",
              "      <td>3.5</td>\n",
              "      <td>230</td>\n",
              "    </tr>\n",
              "    <tr>\n",
              "      <th>6</th>\n",
              "      <td>3.5</td>\n",
              "      <td>232</td>\n",
              "    </tr>\n",
              "    <tr>\n",
              "      <th>7</th>\n",
              "      <td>3.7</td>\n",
              "      <td>255</td>\n",
              "    </tr>\n",
              "    <tr>\n",
              "      <th>8</th>\n",
              "      <td>3.7</td>\n",
              "      <td>267</td>\n",
              "    </tr>\n",
              "  </tbody>\n",
              "</table>\n",
              "</div>"
            ],
            "text/plain": [
              "   ENGINESIZE  CO2EMISSIONS\n",
              "0         2.0           196\n",
              "1         2.4           221\n",
              "2         1.5           136\n",
              "3         3.5           255\n",
              "4         3.5           244\n",
              "5         3.5           230\n",
              "6         3.5           232\n",
              "7         3.7           255\n",
              "8         3.7           267"
            ]
          },
          "metadata": {
            "tags": []
          },
          "execution_count": 3
        }
      ]
    },
    {
      "cell_type": "code",
      "metadata": {
        "id": "s2Wtzhm36CiV",
        "colab_type": "code",
        "colab": {}
      },
      "source": [
        "real_x = df.iloc[:,0].values\n",
        "real_y = df.iloc[:,1].values\n",
        "real_x = real_x.reshape(-1,1)\n",
        "real_y = real_y.reshape(-1,1)"
      ],
      "execution_count": 4,
      "outputs": []
    },
    {
      "cell_type": "code",
      "metadata": {
        "id": "d3eZHAN772s0",
        "colab_type": "code",
        "colab": {}
      },
      "source": [
        "from sklearn.model_selection import train_test_split\n",
        "from sklearn.linear_model import LinearRegression"
      ],
      "execution_count": 5,
      "outputs": []
    },
    {
      "cell_type": "code",
      "metadata": {
        "id": "ubbisXHw8sdW",
        "colab_type": "code",
        "colab": {}
      },
      "source": [
        "training_x, testing_x, training_y, testing_y = train_test_split(real_x, real_y, test_size = 0.2, random_state = 0)"
      ],
      "execution_count": 6,
      "outputs": []
    },
    {
      "cell_type": "code",
      "metadata": {
        "id": "CJ7D8CJX9HId",
        "colab_type": "code",
        "colab": {
          "base_uri": "https://localhost:8080/",
          "height": 35
        },
        "outputId": "c46eaa16-5abe-40c7-b184-020ca9d528e0"
      },
      "source": [
        "Lin = LinearRegression()\n",
        "Lin.fit(real_x,real_y)"
      ],
      "execution_count": 7,
      "outputs": [
        {
          "output_type": "execute_result",
          "data": {
            "text/plain": [
              "LinearRegression(copy_X=True, fit_intercept=True, n_jobs=None, normalize=False)"
            ]
          },
          "metadata": {
            "tags": []
          },
          "execution_count": 7
        }
      ]
    },
    {
      "cell_type": "code",
      "metadata": {
        "id": "dNTeFL2A9jbJ",
        "colab_type": "code",
        "colab": {}
      },
      "source": [
        "Pred_y = Lin.predict(real_x)"
      ],
      "execution_count": 8,
      "outputs": []
    },
    {
      "cell_type": "code",
      "metadata": {
        "id": "C3KtaGr_-K6h",
        "colab_type": "code",
        "colab": {
          "base_uri": "https://localhost:8080/",
          "height": 181
        },
        "outputId": "82530612-6d34-44ea-82d8-69db1afcf735"
      },
      "source": [
        "Pred_y"
      ],
      "execution_count": 9,
      "outputs": [
        {
          "output_type": "execute_result",
          "data": {
            "text/plain": [
              "array([[180.77160494],\n",
              "       [198.36539227],\n",
              "       [158.77937077],\n",
              "       [246.74830745],\n",
              "       [246.74830745],\n",
              "       [246.74830745],\n",
              "       [246.74830745],\n",
              "       [255.54520112],\n",
              "       [255.54520112]])"
            ]
          },
          "metadata": {
            "tags": []
          },
          "execution_count": 9
        }
      ]
    },
    {
      "cell_type": "code",
      "metadata": {
        "id": "kNgi3pwV-M3y",
        "colab_type": "code",
        "colab": {
          "base_uri": "https://localhost:8080/",
          "height": 181
        },
        "outputId": "1579b4f5-aa52-4ec1-dda3-ada6200305a6"
      },
      "source": [
        "real_y"
      ],
      "execution_count": 10,
      "outputs": [
        {
          "output_type": "execute_result",
          "data": {
            "text/plain": [
              "array([[196],\n",
              "       [221],\n",
              "       [136],\n",
              "       [255],\n",
              "       [244],\n",
              "       [230],\n",
              "       [232],\n",
              "       [255],\n",
              "       [267]])"
            ]
          },
          "metadata": {
            "tags": []
          },
          "execution_count": 10
        }
      ]
    },
    {
      "cell_type": "code",
      "metadata": {
        "id": "EHEx1mgV-PI6",
        "colab_type": "code",
        "colab": {
          "base_uri": "https://localhost:8080/",
          "height": 35
        },
        "outputId": "3d584cbe-df97-49b4-81fc-89985ac1ea36"
      },
      "source": [
        "Pred_y[2]"
      ],
      "execution_count": 11,
      "outputs": [
        {
          "output_type": "execute_result",
          "data": {
            "text/plain": [
              "array([158.77937077])"
            ]
          },
          "metadata": {
            "tags": []
          },
          "execution_count": 11
        }
      ]
    },
    {
      "cell_type": "code",
      "metadata": {
        "id": "4CBZYksjLIDg",
        "colab_type": "code",
        "colab": {
          "base_uri": "https://localhost:8080/",
          "height": 35
        },
        "outputId": "3ec1fbe6-47e9-45e6-f6ad-6dc8181c0f16"
      },
      "source": [
        "Pred_y[0]"
      ],
      "execution_count": 69,
      "outputs": [
        {
          "output_type": "execute_result",
          "data": {
            "text/plain": [
              "array([180.77160494])"
            ]
          },
          "metadata": {
            "tags": []
          },
          "execution_count": 69
        }
      ]
    },
    {
      "cell_type": "code",
      "metadata": {
        "id": "YzSVovderGo_",
        "colab_type": "code",
        "colab": {
          "base_uri": "https://localhost:8080/",
          "height": 35
        },
        "outputId": "698d5cad-56a3-419f-d124-971943a95a9b"
      },
      "source": [
        "Pred_y[1]"
      ],
      "execution_count": 13,
      "outputs": [
        {
          "output_type": "execute_result",
          "data": {
            "text/plain": [
              "array([198.36539227])"
            ]
          },
          "metadata": {
            "tags": []
          },
          "execution_count": 13
        }
      ]
    },
    {
      "cell_type": "code",
      "metadata": {
        "id": "lKU52XDgK8th",
        "colab_type": "code",
        "colab": {
          "base_uri": "https://localhost:8080/",
          "height": 35
        },
        "outputId": "52852bf7-f223-400f-ce6f-f30db21187c0"
      },
      "source": [
        "Lin.predict([[2.4]])"
      ],
      "execution_count": 12,
      "outputs": [
        {
          "output_type": "execute_result",
          "data": {
            "text/plain": [
              "array([[198.36539227]])"
            ]
          },
          "metadata": {
            "tags": []
          },
          "execution_count": 12
        }
      ]
    },
    {
      "cell_type": "code",
      "metadata": {
        "id": "8IXJg1-y-28p",
        "colab_type": "code",
        "colab": {
          "base_uri": "https://localhost:8080/",
          "height": 265
        },
        "outputId": "e4367a03-e9dc-42e0-82bc-80aee858f22e"
      },
      "source": [
        "plt.scatter(real_x,real_y)\n",
        "plt.show()"
      ],
      "execution_count": 32,
      "outputs": [
        {
          "output_type": "display_data",
          "data": {
            "image/png": "[encoded data removed]",
            "text/plain": [
              "<Figure size 432x288 with 1 Axes>"
            ]
          },
          "metadata": {
            "tags": [],
            "needs_background": "light"
          }
        }
      ]
    },
    {
      "cell_type": "code",
      "metadata": {
        "id": "MkxLYpmv_L93",
        "colab_type": "code",
        "colab": {
          "base_uri": "https://localhost:8080/",
          "height": 265
        },
        "outputId": "526ce051-0bff-44e7-e07a-dd1f7dccc72b"
      },
      "source": [
        "plt.scatter(real_x,real_y)\n",
        "plt.plot(real_x,Pred_y)\n",
        "plt.show()"
      ],
      "execution_count": 33,
      "outputs": [
        {
          "output_type": "display_data",
          "data": {
            "image/png": "[encoded data removed]",
            "text/plain": [
              "<Figure size 432x288 with 1 Axes>"
            ]
          },
          "metadata": {
            "tags": [],
            "needs_background": "light"
          }
        }
      ]
    },
    {
      "cell_type": "code",
      "metadata": {
        "id": "LSOrdnQ6_hEN",
        "colab_type": "code",
        "colab": {
          "base_uri": "https://localhost:8080/",
          "height": 35
        },
        "outputId": "d2fed271-2ba1-4405-a9e8-889361214354"
      },
      "source": [
        "# y = b0 + b1x\n",
        "Lin.intercept_#b0"
      ],
      "execution_count": 34,
      "outputs": [
        {
          "output_type": "execute_result",
          "data": {
            "text/plain": [
              "array([92.80266826])"
            ]
          },
          "metadata": {
            "tags": []
          },
          "execution_count": 34
        }
      ]
    },
    {
      "cell_type": "code",
      "metadata": {
        "id": "G2oFCSJyACNS",
        "colab_type": "code",
        "colab": {
          "base_uri": "https://localhost:8080/",
          "height": 35
        },
        "outputId": "2b2fe167-9c82-4f82-8866-a3b15e47350a"
      },
      "source": [
        "Lin.coef_#b1"
      ],
      "execution_count": 35,
      "outputs": [
        {
          "output_type": "execute_result",
          "data": {
            "text/plain": [
              "array([[43.98446834]])"
            ]
          },
          "metadata": {
            "tags": []
          },
          "execution_count": 35
        }
      ]
    },
    {
      "cell_type": "code",
      "metadata": {
        "id": "1pRhdAXdAHqp",
        "colab_type": "code",
        "colab": {}
      },
      "source": [
        "#Error Evaluation"
      ],
      "execution_count": 77,
      "outputs": []
    },
    {
      "cell_type": "code",
      "metadata": {
        "id": "8G3p4rb6NJHa",
        "colab_type": "code",
        "colab": {}
      },
      "source": [
        "#MAE - Mean Absolute Error\n",
        "#MSE - Mean Squared Error\n",
        "#RMSE - Root MSE\n"
      ],
      "execution_count": 78,
      "outputs": []
    },
    {
      "cell_type": "code",
      "metadata": {
        "id": "4X59MHIeNdX-",
        "colab_type": "code",
        "colab": {
          "base_uri": "https://localhost:8080/",
          "height": 181
        },
        "outputId": "d57c834b-b8c5-4144-b856-53f106e4e3e8"
      },
      "source": [
        "real_y"
      ],
      "execution_count": 79,
      "outputs": [
        {
          "output_type": "execute_result",
          "data": {
            "text/plain": [
              "array([[196],\n",
              "       [221],\n",
              "       [136],\n",
              "       [255],\n",
              "       [244],\n",
              "       [230],\n",
              "       [232],\n",
              "       [255],\n",
              "       [267]])"
            ]
          },
          "metadata": {
            "tags": []
          },
          "execution_count": 79
        }
      ]
    },
    {
      "cell_type": "code",
      "metadata": {
        "id": "ZbtQ9TbANhRq",
        "colab_type": "code",
        "colab": {
          "base_uri": "https://localhost:8080/",
          "height": 181
        },
        "outputId": "db8e0bd0-943c-46b3-f5a7-61194d5361ff"
      },
      "source": [
        "Pred_y"
      ],
      "execution_count": 80,
      "outputs": [
        {
          "output_type": "execute_result",
          "data": {
            "text/plain": [
              "array([[180.77160494],\n",
              "       [198.36539227],\n",
              "       [158.77937077],\n",
              "       [246.74830745],\n",
              "       [246.74830745],\n",
              "       [246.74830745],\n",
              "       [246.74830745],\n",
              "       [255.54520112],\n",
              "       [255.54520112]])"
            ]
          },
          "metadata": {
            "tags": []
          },
          "execution_count": 80
        }
      ]
    },
    {
      "cell_type": "code",
      "metadata": {
        "id": "0cbnKFe1NlY0",
        "colab_type": "code",
        "colab": {
          "base_uri": "https://localhost:8080/",
          "height": 181
        },
        "outputId": "914f3188-22e2-494b-bb00-4146fbdd532a"
      },
      "source": [
        "np.concatenate((real_y, Pred_y),axis=1)"
      ],
      "execution_count": 81,
      "outputs": [
        {
          "output_type": "execute_result",
          "data": {
            "text/plain": [
              "array([[196.        , 180.77160494],\n",
              "       [221.        , 198.36539227],\n",
              "       [136.        , 158.77937077],\n",
              "       [255.        , 246.74830745],\n",
              "       [244.        , 246.74830745],\n",
              "       [230.        , 246.74830745],\n",
              "       [232.        , 246.74830745],\n",
              "       [255.        , 255.54520112],\n",
              "       [267.        , 255.54520112]])"
            ]
          },
          "metadata": {
            "tags": []
          },
          "execution_count": 81
        }
      ]
    },
    {
      "cell_type": "code",
      "metadata": {
        "id": "dRMhUoRBNz5h",
        "colab_type": "code",
        "colab": {
          "base_uri": "https://localhost:8080/",
          "height": 181
        },
        "outputId": "e96144f3-9914-4db5-fac8-3de49c76d098"
      },
      "source": [
        "real_y - Pred_y"
      ],
      "execution_count": 82,
      "outputs": [
        {
          "output_type": "execute_result",
          "data": {
            "text/plain": [
              "array([[ 15.22839506],\n",
              "       [ 22.63460773],\n",
              "       [-22.77937077],\n",
              "       [  8.25169255],\n",
              "       [ -2.74830745],\n",
              "       [-16.74830745],\n",
              "       [-14.74830745],\n",
              "       [ -0.54520112],\n",
              "       [ 11.45479888]])"
            ]
          },
          "metadata": {
            "tags": []
          },
          "execution_count": 82
        }
      ]
    },
    {
      "cell_type": "code",
      "metadata": {
        "id": "pJ_TuKoHOEnI",
        "colab_type": "code",
        "colab": {
          "base_uri": "https://localhost:8080/",
          "height": 181
        },
        "outputId": "aad68922-8328-419b-e894-358f2515ce5e"
      },
      "source": [
        "np.abs(real_y - Pred_y)"
      ],
      "execution_count": 83,
      "outputs": [
        {
          "output_type": "execute_result",
          "data": {
            "text/plain": [
              "array([[15.22839506],\n",
              "       [22.63460773],\n",
              "       [22.77937077],\n",
              "       [ 8.25169255],\n",
              "       [ 2.74830745],\n",
              "       [16.74830745],\n",
              "       [14.74830745],\n",
              "       [ 0.54520112],\n",
              "       [11.45479888]])"
            ]
          },
          "metadata": {
            "tags": []
          },
          "execution_count": 83
        }
      ]
    },
    {
      "cell_type": "code",
      "metadata": {
        "id": "M5Le_qw-OZAS",
        "colab_type": "code",
        "colab": {
          "base_uri": "https://localhost:8080/",
          "height": 35
        },
        "outputId": "b02d4ce7-c18e-4847-d69f-f017252d04cb"
      },
      "source": [
        "np.abs(real_y - Pred_y).mean()"
      ],
      "execution_count": 84,
      "outputs": [
        {
          "output_type": "execute_result",
          "data": {
            "text/plain": [
              "12.793220938979601"
            ]
          },
          "metadata": {
            "tags": []
          },
          "execution_count": 84
        }
      ]
    },
    {
      "cell_type": "code",
      "metadata": {
        "id": "RgIezO7jOf4X",
        "colab_type": "code",
        "colab": {}
      },
      "source": [
        "from sklearn import metrics"
      ],
      "execution_count": 85,
      "outputs": []
    },
    {
      "cell_type": "code",
      "metadata": {
        "id": "9PssGhZEOqlp",
        "colab_type": "code",
        "colab": {
          "base_uri": "https://localhost:8080/",
          "height": 35
        },
        "outputId": "599ae5f8-4f4c-47ec-d8c3-e7b4ba48b134"
      },
      "source": [
        "metrics.mean_absolute_error(real_y,Pred_y)"
      ],
      "execution_count": 86,
      "outputs": [
        {
          "output_type": "execute_result",
          "data": {
            "text/plain": [
              "12.793220938979601"
            ]
          },
          "metadata": {
            "tags": []
          },
          "execution_count": 86
        }
      ]
    },
    {
      "cell_type": "code",
      "metadata": {
        "id": "0kRseTaQOy2O",
        "colab_type": "code",
        "colab": {
          "base_uri": "https://localhost:8080/",
          "height": 181
        },
        "outputId": "7ce98490-9ec2-48df-a8fe-3e04a9711730"
      },
      "source": [
        "#MSE\n",
        "(real_y - Pred_y)**2"
      ],
      "execution_count": 95,
      "outputs": [
        {
          "output_type": "execute_result",
          "data": {
            "text/plain": [
              "array([[2.31904016e+02],\n",
              "       [5.12325467e+02],\n",
              "       [5.18899733e+02],\n",
              "       [6.80904300e+01],\n",
              "       [7.55319382e+00],\n",
              "       [2.80505802e+02],\n",
              "       [2.17512573e+02],\n",
              "       [2.97244256e-01],\n",
              "       [1.31212417e+02]])"
            ]
          },
          "metadata": {
            "tags": []
          },
          "execution_count": 95
        }
      ]
    },
    {
      "cell_type": "code",
      "metadata": {
        "id": "Vc8XY3ALPSFT",
        "colab_type": "code",
        "colab": {
          "base_uri": "https://localhost:8080/",
          "height": 35
        },
        "outputId": "83a445e5-ba57-442a-de12-ea7342979806"
      },
      "source": [
        "((real_y - Pred_y)**2).mean()"
      ],
      "execution_count": 94,
      "outputs": [
        {
          "output_type": "execute_result",
          "data": {
            "text/plain": [
              "218.7000973494403"
            ]
          },
          "metadata": {
            "tags": []
          },
          "execution_count": 94
        }
      ]
    },
    {
      "cell_type": "code",
      "metadata": {
        "id": "crQqOfRmPfly",
        "colab_type": "code",
        "colab": {
          "base_uri": "https://localhost:8080/",
          "height": 35
        },
        "outputId": "90ba600b-e31c-49ec-b5e2-8b6909eef1c6"
      },
      "source": [
        "metrics.mean_squared_error(real_y, Pred_y)"
      ],
      "execution_count": 96,
      "outputs": [
        {
          "output_type": "execute_result",
          "data": {
            "text/plain": [
              "218.7000973494403"
            ]
          },
          "metadata": {
            "tags": []
          },
          "execution_count": 96
        }
      ]
    },
    {
      "cell_type": "code",
      "metadata": {
        "id": "fiKm-Vf0QPAw",
        "colab_type": "code",
        "colab": {}
      },
      "source": [
        ""
      ],
      "execution_count": null,
      "outputs": []
    }
  ]
}